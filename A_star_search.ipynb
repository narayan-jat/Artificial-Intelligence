{
 "cells": [
  {
   "cell_type": "markdown",
   "metadata": {},
   "source": [
    "This notebook implements the **A* search** algorithm also known as informed search strategy. This is most widely known best form of best first search.It opens nodes based on the value of evaluation function which is sum of actual cost function and hueristic function.For the cheapest solution expand the node with lowest value of evaluation function. This algo is both complete and optimal.\n",
    "\n",
    "Some real life application of algo:\n",
    "1. Traffic managaemet \n",
    "2. Supply chain optimization\n",
    "3. Maze solving"
   ]
  },
  {
   "cell_type": "code",
   "execution_count": 8,
   "metadata": {},
   "outputs": [],
   "source": [
    "# Importing required modules.\n",
    "import pandas as pd # importing pandas \n",
    "heuristic_data = pd.read_csv('hueristic_distances.csv') # reading csv file.\n",
    "cities_data = pd.read_csv('connected_cities.csv')"
   ]
  },
  {
   "cell_type": "code",
   "execution_count": 9,
   "metadata": {},
   "outputs": [
    {
     "name": "stdout",
     "output_type": "stream",
     "text": [
      "{'Jodhpur': ['Bikaner', 'Rajsamand'], 'Rajsamand': ['Jodhpur', 'Sikar'], 'Bikaner': ['Jodhpur', 'Sri Ganganagar'], 'Sri Ganganagar': ['Bikaner', 'Sikar'], 'Sikar': ['Sri Ganganagar', 'Rajsamand', 'Una', 'Jaipur'], 'Una': ['Sikar', 'Baghpat'], 'Jaipur': ['Bundi', 'Delhi', 'Sikar'], 'Bundi': ['Jaipur', 'Kota', 'Belagavi'], 'Belagavi': ['Bundi', 'Hanamkonda', 'Calicut'], 'Calicut': ['Belagavi'], 'Delhi': ['Jaipur', 'Faridabad', 'Baghpat'], 'Kota': ['Bundi', 'Bhopal', 'Agra'], 'Baghpat': ['Una', 'Delhi', 'Aligarh'], 'Faridabad': ['Agra', 'Delhi'], 'Bhopal': ['Kota', 'Morena'], 'Agra': ['Faridabad', 'Aligarh', 'Morena', 'Kota'], 'Aligarh': ['Agra', 'Baghpat', 'Sitapur', 'Mahoba'], 'Morena': ['Bhopal', 'Sagar', 'Agra'], 'Sagar': ['Morena', 'Balaghat'], 'Balaghat': ['Sagar', 'Hanamkonda'], 'Hanamkonda': ['Balaghat', 'Belagavi'], 'Mahoba': ['Aligarh', 'Lucknow', 'Chitrakoot'], 'Sitapur': ['Aligarh', 'Lucknow'], 'Lucknow': ['Sitapur', 'Mahoba', 'Raebareli', 'Lakhimpur'], 'Lakhimpur': ['Lucknow', 'Arrah'], 'Raebareli': ['Lucknow', 'Prayagraj'], 'Chitrakoot': ['Mahoba', 'Prayagraj'], 'Prayagraj': ['Raebareli', 'Chitrakoot', 'Mirzapur'], 'Mirzapur': ['Prayagraj', 'Ghazipur'], 'Arrah': ['Lakhimpur', 'Rohtas'], 'Ghazipur': ['Mirzapur', 'Rohtas'], 'Rohtas': ['Ghazipur', 'Arrah', 'Daudnagar'], 'Daudnagar': ['Rohtas', 'Patna', 'Palamu'], 'Palamu': ['Daudnagar', 'Gaya', 'Sarangarh'], 'Sarangarh': ['Palamu'], 'Patna': ['Daudnagar', 'Sitamarhi', 'Jehanabad'], 'Gaya': ['Palamu', 'Nawada'], 'Jehanabad': ['Patna', 'Nawada'], 'Nawada': ['Jehanabad', 'Gaya', 'Bhagalpur'], 'Sitamarhi': ['Patna', 'Madhepura'], 'Madhepura': ['Sitamarhi', 'Araria'], 'Araria': ['Madhepura', 'Bhagalpur'], 'Bhagalpur': ['Nawada', 'Durgapur', 'Pakur', 'Araria'], 'Durgapur': ['Bhagalpur'], 'Pakur': ['Bhagalpur']}\n",
      "Total nodes in the graph:  45\n",
      "Total edges in the graph:  110\n",
      "Is graph conneced:  True\n"
     ]
    }
   ],
   "source": [
    "# Creating graph class.\n",
    "class Graph(object):\n",
    "    '''This is a graph.'''\n",
    "    def __init__(self, dataset):\n",
    "        '''Initializes the graph.'''\n",
    "        self.graph = self._create_graph(dataset)\n",
    "\n",
    "    # Accesor methods\n",
    "    @property\n",
    "    def graph_data(self):\n",
    "        '''Return the adjacency list of the nodes.'''\n",
    "        return self.graph\n",
    "    \n",
    "    @property\n",
    "    def total_nodes(self):\n",
    "        '''The total unique nodes in the graph.'''\n",
    "        total_node = 0\n",
    "        for i in self.graph:  # iterating over each key in dictinary.\n",
    "            total_node += 1\n",
    "        return total_node\n",
    "    \n",
    "    @property\n",
    "    def edges(self):\n",
    "        '''Total number of edges in the graph. Since the graph is undirected so there\n",
    "        is one edge between any two nodes of the graph.'''\n",
    "        total_edges = 0\n",
    "        for i in self.graph:\n",
    "            total_edges += len(self.graph[i])  #Calcuting length of each list for every node.\n",
    "        return total_edges\n",
    "    \n",
    "    def is_connected(self):\n",
    "        '''\n",
    "        Return True if graph is connected otherwise False.\n",
    "        \n",
    "        Since each node of the graph is considered as key in the adjacency list(actually a dictionary).\n",
    "        So, if any key is having value as blank list then the node is isolated from the graph. Since\n",
    "        here in the graph the list contains all the nodes to which key node is connnected. So, if this\n",
    "        is the case then graph is disconnected.\n",
    "\n",
    "        Note: Connected does not mean fully connected. This function only tell whether a graph is \n",
    "        connected or not.\n",
    "        '''\n",
    "        for i in self.graph:\n",
    "            if len(self.graph[i]) == 0:\n",
    "                return False\n",
    "        return True\n",
    "    \n",
    "    #Non-public helper functions.\n",
    "    def _create_graph(self, dataset):\n",
    "        '''This is helper function to create graph.'''\n",
    "        graph = {}\n",
    "        for node1, node2 in zip(dataset['node1'], dataset['node2']):\n",
    "            if node1 not in graph:\n",
    "                graph[node1] = []   #Adding nodes to the graph.\n",
    "            graph[node1].append(node2)  #Adding edges to the graph.\n",
    "        return graph\n",
    "\n",
    "    def heuristic_function(self, df):\n",
    "        '''Returns heuristic distances for all the nodes.'''\n",
    "        heuristic_distances = {}        # storing hueristic distance of each other cities.\n",
    "        for node1, node2, hueristic, route in zip(df['node1'], df['node2'], df['Heuristic distance'], df['route_distance']):\n",
    "            if node1 not in heuristic_distances:\n",
    "                heuristic_distances[node1] = {}\n",
    "            heuristic_distances[node1][node2] = (hueristic, route)    # adding the data to dictionary.\n",
    "        return heuristic_distances\n",
    "    \n",
    "    \n",
    "# Graph creation.\n",
    "graph = Graph(cities_data)\n",
    "heuristic_distances = graph.heuristic_function(heuristic_data)\n",
    "\n",
    "#------------------Checking some information about grapah.---------------------------\n",
    "print(graph.graph_data) #giving details of nodes connected to any node.\n",
    "print('Total nodes in the graph: ', graph.total_nodes)\n",
    "print('Total edges in the graph: ', graph.edges)\n",
    "print('Is graph conneced: ', graph.is_connected())"
   ]
  },
  {
   "cell_type": "code",
   "execution_count": 10,
   "metadata": {},
   "outputs": [
    {
     "name": "stdout",
     "output_type": "stream",
     "text": [
      "The path from Bikaner to Patna is:  ['Bikaner', 'Sri Ganganagar', 'Sikar', 'Jaipur', 'Delhi', 'Faridabad', 'Agra', 'Aligarh', 'Sitapur', 'Lucknow', 'Lakhimpur', 'Arrah', 'Rohtas', 'Daudnagar', 'Patna']\n",
      "The path from Sagar to Agra is:  ['Sagar', 'Morena', 'Agra']\n",
      "The path from Sikar to Gaya is:  ['Sikar', 'Jaipur', 'Delhi', 'Faridabad', 'Agra', 'Aligarh', 'Sitapur', 'Lucknow', 'Raebareli', 'Prayagraj', 'Mirzapur', 'Ghazipur', 'Rohtas', 'Daudnagar', 'Patna', 'Jehanabad', 'Nawada', 'Gaya']\n",
      "The path from Calicut to Bhopal is:  ['Calicut', 'Belagavi', 'Bundi', 'Kota', 'Bhopal']\n",
      "The path from Bhopal to Calicut is:  ['Bhopal', 'Kota', 'Bundi', 'Belagavi', 'Calicut']\n",
      "The path from Agra to Agra is:  ['Agra']\n"
     ]
    }
   ],
   "source": [
    "#Implementing the A_star algorithm.\n",
    "visited_list = []           # nodes visited in tree.\n",
    "path = []                   # path\n",
    "parent_child_mapping = {}   # parent child relationship for nodes.\n",
    "evaluated_value = {}        # the evaluation function value for nodes\n",
    "\n",
    "def a_star_search(start_node, goal_node):\n",
    "    '''Returns the path between start node and goal node.'''\n",
    "    if start_node not in visited_list:\n",
    "        visited_list.append(start_node)\n",
    "        if start_node == goal_node:\n",
    "            path_construct(goal_node)   #constructing path.\n",
    "            return True\n",
    "        for node in graph.graph[start_node]:\n",
    "            if node not in visited_list and node not in parent_child_mapping:\n",
    "                parent_child_mapping[node] = start_node # creating parent child dictionary.\n",
    "            if node not in visited_list:\n",
    "                eval_value = heuristic_distances[node][goal_node][0] + heuristic_distances[visited_list[0]][node][1]\n",
    "                evaluated_value[node] = eval_value  #finding values of evaluation function and storing.\n",
    "        start_node = find_start_node()  #node for expansion with minimum evaluated value.\n",
    "        del evaluated_value[start_node]\n",
    "        a_star_search(start_node, goal_node)\n",
    "\n",
    "def find_start_node():\n",
    "    '''Returns  start node on the basis of minimum evaluated value \n",
    "    of evaluation of functions.'''\n",
    "    min = 100000000000000   #assuming all distances are lesser than this.\n",
    "    for key in evaluated_value:\n",
    "        if evaluated_value[key] < min:\n",
    "            min = evaluated_value[key]\n",
    "            start_node = key\n",
    "    return start_node\n",
    "\n",
    "def path_construct(node):\n",
    "    '''Return the path from stating node to goal node.'''\n",
    "    node = node\n",
    "    while node in parent_child_mapping: # iterating while there is parent for nodes.\n",
    "        path.insert(0, node)\n",
    "        node = parent_child_mapping[node]\n",
    "    path.insert(0, node)\n",
    "\n",
    "\n",
    "#------------checking output for different values of start node and goal node----------------------\n",
    "cases = {1: ['Bikaner', 'Patna'], 2: ['Sagar', 'Agra'], 3: ['Sikar', 'Gaya'], 4: ['Calicut', 'Bhopal'], 5:['Bhopal', 'Calicut'], 6: ['Agra', 'Agra']}\n",
    "for case in cases:\n",
    "    a_star_search(cases[case][0], cases[case][1])\n",
    "    print(f'The path from {cases[case][0]} to {cases[case][1]} is: ', path)\n",
    "    path = []\n",
    "    visited_list = []\n",
    "    parent_child_mapping = {}\n",
    "    evaluated_value = {}"
   ]
  },
  {
   "cell_type": "markdown",
   "metadata": {},
   "source": [
    "# Observation\n",
    "1. Always return a path if nodes are connected.\n",
    "2. Always gives shortest path.\n",
    "3. Always return the same path length even if start node and goal node are just interchanged.\n",
    "4. Always return the same path nodes even if start node and goal node are just interchanged.\n"
   ]
  }
 ],
 "metadata": {
  "kernelspec": {
   "display_name": "Python 3",
   "language": "python",
   "name": "python3"
  },
  "language_info": {
   "codemirror_mode": {
    "name": "ipython",
    "version": 3
   },
   "file_extension": ".py",
   "mimetype": "text/x-python",
   "name": "python",
   "nbconvert_exporter": "python",
   "pygments_lexer": "ipython3",
   "version": "3.11.5"
  },
  "orig_nbformat": 4
 },
 "nbformat": 4,
 "nbformat_minor": 2
}
