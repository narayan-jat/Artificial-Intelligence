{
 "cells": [
  {
   "cell_type": "markdown",
   "metadata": {},
   "source": [
    "This notebook implements the **Breadth first search** algorithm which is also known as blind search or uninformed search. The algorithm is complete and optimal both always for tree as well as graph. \n",
    "Following implementation is divided into three steps.\n",
    "        1. BFS function with one node and traversing whole tree or graph.\n",
    "        2. BFS function with two nodes(starting and target) stops execution if target node found.\n",
    "        3. BFS function with two node(starting and target) with tracking the path followed."
   ]
  },
  {
   "cell_type": "code",
   "execution_count": 2,
   "metadata": {},
   "outputs": [],
   "source": [
    "# creating the adjancency list.\n",
    "adjacency_list = {0: [1, 2, 3], 1: [4, 0], 2: [5, 6, 0], 3: [7, 0], 4: [1, 8], 5: [2, 9], 6: [2], 7: [3], 8: [4], 9: [5]}\n"
   ]
  },
  {
   "cell_type": "code",
   "execution_count": null,
   "metadata": {},
   "outputs": [],
   "source": [
    "# 1. BFS with one argument and traversing the whole graph.\n",
    "level = []\n",
    "visited_list = []\n",
    "def BFS(starting_node):\n",
    "    '''Traverse the whole graph with the help of starting_node'''\n",
    "    if starting_node not in visited_list:\n",
    "        level.append(starting_node)\n",
    "        print(starting_node)\n",
    "        for node in adjacency_list[starting_node]:\n",
    "            level.append(node)\n",
    "        level.pop(0)\n",
    "        visited_list.append(starting_node)\n",
    "        BFS(level[0])\n",
    "    if len(level) != 0:\n",
    "        level.pop(0)\n",
    "        if len(level) != 0:\n",
    "            BFS(level[0])\n",
    "BFS(0)"
   ]
  },
  {
   "cell_type": "code",
   "execution_count": null,
   "metadata": {},
   "outputs": [],
   "source": [
    "# 2. searching for target node from the graph.\n",
    "level = []\n",
    "visited_list = []\n",
    "def BFS(starting_node, target_node):\n",
    "    '''Traverse the whole graph with the help of starting_node'''\n",
    "    if starting_node not in visited_list:\n",
    "        level.append(starting_node)\n",
    "        print(starting_node)\n",
    "        if starting_node == target_node:\n",
    "            return True\n",
    "        for node in adjacency_list[starting_node]:\n",
    "            level.append(node)\n",
    "        level.pop(0)\n",
    "        visited_list.append(starting_node)\n",
    "        BFS(level[0], target_node)\n",
    "    elif len(level) != 0:\n",
    "        level.pop(0)\n",
    "        if len(level) != 0:\n",
    "            BFS(level[0], target_node)\n",
    "print(BFS(0, 6))"
   ]
  },
  {
   "cell_type": "code",
   "execution_count": 23,
   "metadata": {},
   "outputs": [
    {
     "name": "stdout",
     "output_type": "stream",
     "text": [
      "[7, 3, 0, 1, 4, 8]\n"
     ]
    }
   ],
   "source": [
    "#3.Searching for target node and tracking path of it.\n",
    "level = []\n",
    "visited_list = []\n",
    "path = []\n",
    "parent_child_mapping = {}\n",
    "def BFS(starting_node, target_node):\n",
    "    '''Traverse the whole graph with the help of starting_node'''\n",
    "    if starting_node not in visited_list:\n",
    "        level.append(starting_node)\n",
    "        if starting_node == target_node:\n",
    "            node = target_node\n",
    "            while node in parent_child_mapping:\n",
    "                path.insert(0, node)\n",
    "                node = parent_child_mapping[node]\n",
    "            path.insert(0, node)\n",
    "            print(str(path))\n",
    "            return True\n",
    "        for node in adjacency_list[starting_node]:\n",
    "            level.append(node)\n",
    "            if node not in visited_list:\n",
    "                parent_child_mapping[node] = starting_node\n",
    "        level.pop(0)\n",
    "        visited_list.append(starting_node)\n",
    "        BFS(level[0], target_node)\n",
    "    elif len(level) != 0:\n",
    "        level.pop(0)\n",
    "        if len(level) != 0:\n",
    "            BFS(level[0], target_node)\n",
    "BFS(7, 8)"
   ]
  }
 ],
 "metadata": {
  "kernelspec": {
   "display_name": "Python 3",
   "language": "python",
   "name": "python3"
  },
  "language_info": {
   "codemirror_mode": {
    "name": "ipython",
    "version": 3
   },
   "file_extension": ".py",
   "mimetype": "text/x-python",
   "name": "python",
   "nbconvert_exporter": "python",
   "pygments_lexer": "ipython3",
   "version": "3.11.5"
  },
  "orig_nbformat": 4
 },
 "nbformat": 4,
 "nbformat_minor": 2
}
