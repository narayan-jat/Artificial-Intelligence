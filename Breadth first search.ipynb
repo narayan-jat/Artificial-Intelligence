{
 "cells": [
  {
   "cell_type": "markdown",
   "metadata": {},
   "source": [
    "This notebook implements the **Breadth first search** algorithm which is also known as blind search or uninformed search. The algorithm is complete and optimal both always for tree as well as graph.This algorithm can be used for both directed and undirected graph.It has very high space complexity for huge branched graphs.Explores nodes queue by queue.\n",
    "\n",
    "Following are the some real world applications of the algorithm:\n",
    "1. Shortest Path Finding:\n",
    "    1. GPS Navigation\n",
    "    2. Network Routing\n",
    "2. Resources Allocation\n",
    "3. Bipartite Graph testing\n",
    "    1. Recommendation Systems"
   ]
  },
  {
   "cell_type": "code",
   "execution_count": 1,
   "metadata": {},
   "outputs": [],
   "source": [
    "# Importing required modules to work wiith datasets.\n",
    "import pandas as pd\n",
    "\n",
    "# Reading data from the datasets.\n",
    "cities_data = pd.read_csv('connected_cities.csv')   #Reading data for cities."
   ]
  },
  {
   "cell_type": "markdown",
   "metadata": {},
   "source": [
    "Below cell is creating a Graph class to create graph from the above read data from csv files. This class also provides other informations about graph like total number nodes in graph. We will use object of this class as graph in algorithms."
   ]
  },
  {
   "cell_type": "code",
   "execution_count": 2,
   "metadata": {},
   "outputs": [
    {
     "name": "stdout",
     "output_type": "stream",
     "text": [
      "{'Jodhpur': ['Bikaner', 'Rajsamand'], 'Rajsamand': ['Jodhpur', 'Sikar'], 'Bikaner': ['Jodhpur', 'Sri Ganganagar'], 'Sri Ganganagar': ['Bikaner', 'Sikar'], 'Sikar': ['Sri Ganganagar', 'Rajsamand', 'Una', 'Jaipur'], 'Una': ['Sikar', 'Baghpat'], 'Jaipur': ['Bundi', 'Delhi', 'Sikar'], 'Bundi': ['Jaipur', 'Kota', 'Belagavi'], 'Belagavi': ['Bundi', 'Hanamkonda', 'Calicut'], 'Calicut': ['Belagavi'], 'Delhi': ['Jaipur', 'Faridabad', 'Baghpat'], 'Kota': ['Bundi', 'Bhopal', 'Agra'], 'Baghpat': ['Una', 'Delhi', 'Aligarh'], 'Faridabad': ['Agra', 'Delhi'], 'Bhopal': ['Kota', 'Morena'], 'Agra': ['Faridabad', 'Aligarh', 'Morena', 'Kota'], 'Aligarh': ['Agra', 'Baghpat', 'Sitapur', 'Mahoba'], 'Morena': ['Bhopal', 'Sagar', 'Agra'], 'Sagar': ['Morena', 'Balaghat'], 'Balaghat': ['Sagar', 'Hanamkonda'], 'Hanamkonda': ['Balaghat', 'Belagavi'], 'Mahoba': ['Aligarh', 'Lucknow', 'Chitrakoot'], 'Sitapur': ['Aligarh', 'Lucknow'], 'Lucknow': ['Sitapur', 'Mahoba', 'Raebareli', 'Lakhimpur'], 'Lakhimpur': ['Lucknow', 'Arrah'], 'Raebareli': ['Lucknow', 'Prayagraj'], 'Chitrakoot': ['Mahoba', 'Prayagraj'], 'Prayagraj': ['Raebareli', 'Chitrakoot', 'Mirzapur'], 'Mirzapur': ['Prayagraj', 'Ghazipur'], 'Arrah': ['Lakhimpur', 'Rohtas'], 'Ghazipur': ['Mirzapur', 'Rohtas'], 'Rohtas': ['Ghazipur', 'Arrah', 'Daudnagar'], 'Daudnagar': ['Rohtas', 'Patna', 'Palamu'], 'Palamu': ['Daudnagar', 'Gaya', 'Sarangarh'], 'Sarangarh': ['Palamu'], 'Patna': ['Daudnagar', 'Sitamarhi', 'Jehanabad'], 'Gaya': ['Palamu', 'Nawada'], 'Jehanabad': ['Patna', 'Nawada'], 'Nawada': ['Jehanabad', 'Gaya', 'Bhagalpur'], 'Sitamarhi': ['Patna', 'Madhepura'], 'Madhepura': ['Sitamarhi', 'Araria'], 'Araria': ['Madhepura', 'Bhagalpur'], 'Bhagalpur': ['Nawada', 'Durgapur', 'Pakur', 'Araria'], 'Durgapur': ['Bhagalpur'], 'Pakur': ['Bhagalpur']}\n",
      "Total nodes in the graph:  45\n",
      "Total edges in the graph:  110\n",
      "Is graph conneced:  True\n"
     ]
    }
   ],
   "source": [
    "# Creating graph class.\n",
    "class Graph(object):\n",
    "    '''This is a graph.'''\n",
    "    def __init__(self, dataset):\n",
    "        '''Initializes the graph.'''\n",
    "        self.graph = self._create_graph(dataset)\n",
    "\n",
    "    # Accesor methods\n",
    "    @property\n",
    "    def graph_data(self):\n",
    "        '''Return the adjacency list of the nodes.'''\n",
    "        return self.graph\n",
    "    \n",
    "    @property\n",
    "    def total_nodes(self):\n",
    "        '''The total unique nodes in the graph.'''\n",
    "        total_node = 0\n",
    "        for i in self.graph:  # iterating over each key in dictinary.\n",
    "            total_node += 1\n",
    "        return total_node\n",
    "    \n",
    "    @property\n",
    "    def edges(self):\n",
    "        '''Total number of edges in the graph. Since the graph is undirected so there\n",
    "        is one edge between any two nodes of the graph.'''\n",
    "        total_edges = 0\n",
    "        for i in self.graph:\n",
    "            total_edges += len(self.graph[i])  #Calcuting length of each list for every node.\n",
    "        return total_edges\n",
    "    \n",
    "    def is_connected(self):\n",
    "        '''\n",
    "        Return True if graph is connected otherwise False.\n",
    "        \n",
    "        Since each node of the graph is considered as key in the adjacency list(actually a dictionary).\n",
    "        So, if any key is having value as blank list then the node is isolated from the graph. Since\n",
    "        here in the graph the list contains all the nodes to which key node is connnected. So, if this\n",
    "        is the case then graph is disconnected.\n",
    "\n",
    "        Note: Connected does not mean fully connected. This function only tell whether a graph is \n",
    "        connected or not.\n",
    "        '''\n",
    "        for i in self.graph:\n",
    "            if len(self.graph[i]) == 0:\n",
    "                return False\n",
    "        return True\n",
    "    \n",
    "    #Non-public helper functions.\n",
    "    def _create_graph(self, dataset):\n",
    "        '''This is helper function to create graph.'''\n",
    "        graph = {}\n",
    "        for node1, node2 in zip(dataset['node1'], dataset['node2']):\n",
    "            if node1 not in graph:\n",
    "                graph[node1] = []   #Adding nodes to the graph.\n",
    "            graph[node1].append(node2)  #Adding edges to the graph.\n",
    "        return graph\n",
    "\n",
    "# Graph creation.\n",
    "graph = Graph(cities_data)\n",
    "\n",
    "#------------------Checking some information about grapah.---------------------------\n",
    "print(graph.graph_data) #giving details of nodes connected to any node.\n",
    "print('Total nodes in the graph: ', graph.total_nodes)\n",
    "print('Total edges in the graph: ', graph.edges)\n",
    "print('Is graph conneced: ', graph.is_connected())"
   ]
  },
  {
   "cell_type": "code",
   "execution_count": 5,
   "metadata": {},
   "outputs": [
    {
     "name": "stdout",
     "output_type": "stream",
     "text": [
      "The path from Jodhpur to Sikar is:  ['Rajsamand', 'Sikar', 'Sri Ganganagar', 'Rajsamand', 'Bikaner']\n",
      "The path from Sagar to Agra is:  ['Bhopal', 'Kota', 'Hanamkonda', 'Agra', 'Bhopal', 'Balaghat', 'Morena']\n",
      "The path from Sikar to Gaya is:  ['Jehanabad', 'Nawada', 'Madhepura', 'Sarangarh', 'Gaya', 'Jehanabad', 'Sitamarhi', 'Palamu', 'Patna', 'Daudnagar', 'Ghazipur', 'Rohtas', 'Mirzapur', 'Arrah', 'Prayagraj', 'Lakhimpur', 'Raebareli', 'Sagar', 'Balaghat', 'Chitrakoot', 'Lucknow', 'Morena', 'Calicut', 'Hanamkonda', 'Bhopal', 'Mahoba', 'Sitapur', 'Agra', 'Faridabad', 'Belagavi', 'Kota', 'Aligarh', 'Delhi', 'Bundi', 'Baghpat', 'Jodhpur', 'Bikaner', 'Jaipur', 'Una', 'Rajsamand', 'Sri Ganganagar']\n",
      "The path from Calicut to Bhopal is:  ['Sikar', 'Una', 'Rajsamand', 'Sri Ganganagar', 'Baghpat', 'Faridabad', 'Sagar', 'Agra', 'Bhopal', 'Sikar', 'Delhi', 'Balaghat', 'Kota', 'Jaipur', 'Hanamkonda', 'Bundi', 'Belagavi']\n",
      "The path from Agra to Sagar is:  ['Mahoba', 'Chitrakoot', 'Lucknow', 'Una', 'Jaipur', 'Bundi', 'Sagar', 'Bhopal', 'Mahoba', 'Sitapur', 'Baghpat', 'Delhi', 'Kota', 'Morena', 'Aligarh', 'Faridabad']\n",
      "The path from Gaya to Sikar is:  ['Bundi', 'Belagavi', 'Balaghat', 'Jaipur', 'Sikar', 'Bundi', 'Sagar', 'Bhopal', 'Delhi', 'Una', 'Kota', 'Morena', 'Faridabad', 'Baghpat', 'Agra', 'Aligarh', 'Mahoba', 'Sitapur', 'Chitrakoot', 'Raebareli', 'Lucknow', 'Prayagraj', 'Lakhimpur', 'Mirzapur', 'Madhepura', 'Sitamarhi', 'Arrah', 'Ghazipur', 'Araria', 'Pakur', 'Durgapur', 'Patna', 'Rohtas', 'Bhagalpur', 'Jehanabad', 'Sarangarh', 'Daudnagar', 'Nawada', 'Palamu']\n"
     ]
    }
   ],
   "source": [
    "#Implementing the algorithm.\n",
    "queue = []      #Queue used to keep all the nodes at any queue of graph.\n",
    "visited_list = []       #Tracking the nodes which have been already visited\n",
    "path = []       #Tracks path from starting to end\n",
    "parent_child_mapping = {}       #Dictionary having child node as a key and parent node as value.\n",
    "def BFS(starting_node, target_node):\n",
    "    '''\n",
    "    Traversing the graph to search for target node and generating path starting from \n",
    "    starting node.\n",
    "    '''\n",
    "    if starting_node not in visited_list:   #Visiting node if node is not visited.\n",
    "        queue.append(starting_node)\n",
    "        if starting_node == target_node:\n",
    "            path_tracking(target_node)  #Generating path.\n",
    "            return True\n",
    "        for node in graph.graph[starting_node]: #iterating for each node in graph.\n",
    "            queue.append(node)\n",
    "            # adding parent child relationship to dictionary.\n",
    "            if node not in visited_list and node not in parent_child_mapping:\n",
    "                parent_child_mapping[node] = starting_node\n",
    "        queue.pop(0)\n",
    "        visited_list.append(starting_node)\n",
    "        BFS(queue[0], target_node)      #recursive definition.\n",
    "    elif len(queue) != 0: #terminating if no more element in queue.\n",
    "        queue.pop(0)\n",
    "        if len(queue) != 0: #Performing recursion if more element in queue.\n",
    "            BFS(queue[0], target_node)\n",
    "\n",
    "def path_tracking(target_node):\n",
    "    '''It is helper function to record path followed.'''\n",
    "    node = target_node\n",
    "    for node in parent_child_mapping: #Accessing the path.\n",
    "        path.insert(0, node)\n",
    "        node = parent_child_mapping[node]\n",
    "    path.insert(0, node)\n",
    "#-------------Checking output of algorithm for different inputs-----------------\n",
    "cases = {1: ['Jodhpur', 'Sikar'], 2: ['Sagar', 'Agra'], 3: ['Sikar', 'Gaya'], 4: ['Calicut', 'Bhopal'], 5:['Agra', 'Sagar'], 6: ['Gaya', 'Sikar']}\n",
    "for case in cases:\n",
    "    BFS(cases[case][0], cases[case][1])\n",
    "    print(f'The path from {cases[case][0]} to {cases[case][1]} is: ', path)\n",
    "    path = []\n",
    "    visited_list = []\n",
    "    queue = []\n",
    "    parent_child_mapping = {}"
   ]
  },
  {
   "cell_type": "markdown",
   "metadata": {},
   "source": [
    "Observation:\n",
    "1. Giving shortest possible path for the two farthest nodes in the graph.\n",
    "2. Node in the path is same even if we inter-change starting and target node while giving node.\n",
    "3. Number of nodes are also same if we are inter-changing the starting and target node."
   ]
  }
 ],
 "metadata": {
  "kernelspec": {
   "display_name": "Python 3",
   "language": "python",
   "name": "python3"
  },
  "language_info": {
   "codemirror_mode": {
    "name": "ipython",
    "version": 3
   },
   "file_extension": ".py",
   "mimetype": "text/x-python",
   "name": "python",
   "nbconvert_exporter": "python",
   "pygments_lexer": "ipython3",
   "version": "3.11.5"
  },
  "orig_nbformat": 4
 },
 "nbformat": 4,
 "nbformat_minor": 2
}
