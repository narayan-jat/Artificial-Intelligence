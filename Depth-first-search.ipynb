{
 "cells": [
  {
   "cell_type": "markdown",
   "metadata": {},
   "source": [
    "This notebook implements the **Depth First Search(DFS)** algorithm. This algorithm is widely used for searching in graphs. It starts with one starting node and go deeper and deeper unless it finds target node. If there is dead end then it backtrack to initial node and choose other path to find path. This is complete algorithm but it may or may not optimal for graphs. It's time complexity and space complexity are O(V + E) and O(V) respectively where V is total number of nodes and E is total number of edges.\n",
    "\n",
    "Real world applications of this algorithm are:\n",
    "\n",
    "1. Path finding and Navigation.\n",
    "2. Web Crawling\n",
    "3. Social Network Analysis    \n",
    "4. Compiler Design.\n",
    "5. Robotics and Autonomous vehicles.\n",
    "6. Game Development."
   ]
  },
  {
   "cell_type": "code",
   "execution_count": 28,
   "metadata": {},
   "outputs": [],
   "source": [
    "# Importing required modules to work wiith datasets.\n",
    "import pandas as pd\n",
    "\n",
    "# Reading data from the datasets.\n",
    "cities_data = pd.read_csv('connected_cities.csv')   #Reading data for cities."
   ]
  },
  {
   "cell_type": "markdown",
   "metadata": {},
   "source": [
    "Below cell is creating a Graph class to create graph from the above read data from csv files. This class also provides other informations about graph like total number nodes in graph. We will use object of this class as graph in algorithms."
   ]
  },
  {
   "cell_type": "code",
   "execution_count": 30,
   "metadata": {},
   "outputs": [
    {
     "name": "stdout",
     "output_type": "stream",
     "text": [
      "{'Jodhpur': ['Bikaner', 'Rajsamand'], 'Rajsamand': ['Jodhpur', 'Sikar'], 'Bikaner': ['Jodhpur', 'Sri Ganganagar'], 'Sri Ganganagar': ['Bikaner', 'Sikar'], 'Sikar': ['Sri Ganganagar', 'Rajsamand', 'Una', 'Jaipur'], 'Una': ['Sikar', 'Baghpat'], 'Jaipur': ['Bundi', 'Delhi', 'Sikar'], 'Bundi': ['Jaipur', 'Kota', 'Belagavi'], 'Belagavi': ['Bundi', 'Hanamkonda', 'Calicut'], 'Calicut': ['Belagavi'], 'Delhi': ['Jaipur', 'Faridabad', 'Baghpat'], 'Kota': ['Bundi', 'Bhopal', 'Agra'], 'Baghpat': ['Una', 'Delhi', 'Aligarh'], 'Faridabad': ['Agra', 'Delhi'], 'Bhopal': ['Kota', 'Morena'], 'Agra': ['Faridabad', 'Aligarh', 'Morena', 'Kota'], 'Aligarh': ['Agra', 'Baghpat', 'Sitapur', 'Mahoba'], 'Morena': ['Bhopal', 'Sagar', 'Agra'], 'Sagar': ['Morena', 'Balaghat'], 'Balaghat': ['Sagar', 'Hanamkonda'], 'Hanamkonda': ['Balaghat', 'Belagavi'], 'Mahoba': ['Aligarh', 'Lucknow', 'Chitrakoot'], 'Sitapur': ['Aligarh', 'Lucknow'], 'Lucknow': ['Sitapur', 'Mahoba', 'Raebareli', 'Lakhimpur'], 'Lakhimpur': ['Lucknow', 'Arrah'], 'Raebareli': ['Lucknow', 'Prayagraj'], 'Chitrakoot': ['Mahoba', 'Prayagraj'], 'Prayagraj': ['Raebareli', 'Chitrakoot', 'Mirzapur'], 'Mirzapur': ['Prayagraj', 'Ghazipur'], 'Arrah': ['Lakhimpur', 'Rohtas'], 'Ghazipur': ['Mirzapur', 'Rohtas'], 'Rohtas': ['Ghazipur', 'Arrah', 'Daudnagar'], 'Daudnagar': ['Rohtas', 'Patna', 'Palamu'], 'Palamu': ['Daudnagar', 'Gaya', 'Sarangarh'], 'Sarangarh': ['Palamu'], 'Patna': ['Daudnagar', 'Sitamarhi', 'Jehanabad'], 'Gaya': ['Palamu', 'Nawada'], 'Jehanabad': ['Patna', 'Nawada'], 'Nawada': ['Jehanabad', 'Gaya', 'Bhagalpur'], 'Sitamarhi': ['Patna', 'Madhepura'], 'Madhepura': ['Sitamarhi', 'Araria'], 'Araria': ['Madhepura', 'Bhagalpur'], 'Bhagalpur': ['Nawada', 'Durgapur', 'Pakur', 'Araria'], 'Durgapur': ['Bhagalpur'], 'Pakur': ['Bhagalpur']}\n",
      "Total nodes in the graph:  45\n",
      "Total edges in the graph:  110\n",
      "Is graph conneced:  True\n"
     ]
    }
   ],
   "source": [
    "# Creating graph class.\n",
    "class Graph(object):\n",
    "    '''This is a graph.'''\n",
    "    def __init__(self, dataset):\n",
    "        '''Initializes the graph.'''\n",
    "        self.graph = self._create_graph(dataset)\n",
    "\n",
    "    # Accesor methods\n",
    "    @property\n",
    "    def graph_data(self):\n",
    "        '''Return the adjacency list of the nodes.'''\n",
    "        return self.graph\n",
    "    \n",
    "    @property\n",
    "    def total_nodes(self):\n",
    "        '''The total unique nodes in the graph.'''\n",
    "        total_node = 0\n",
    "        for i in self.graph:  # iterating over each key in dictinary.\n",
    "            total_node += 1\n",
    "        return total_node\n",
    "    \n",
    "    @property\n",
    "    def edges(self):\n",
    "        '''Total number of edges in the graph. Since the graph is directed so there\n",
    "        are two edges between any two nodes of the graph.'''\n",
    "        total_edges = 0\n",
    "        for i in self.graph:\n",
    "            total_edges += len(self.graph[i])  #Calcuting length of each list for every node.\n",
    "        return total_edges\n",
    "    \n",
    "    def is_connected(self):\n",
    "        '''\n",
    "        Return True if graph is connected otherewise Fasle.\n",
    "        \n",
    "        Since each node of the graph is considered as key in the adjacency list(actually a dictionary).\n",
    "        So, if any key is having value as blank list then the node is isolated from the graph. Since\n",
    "        here in the graph the list contains all the nodes to which key node is connnected. So, if this\n",
    "        is the case then graph is disconnected.\n",
    "\n",
    "        Note: Connected does not mean fully connected. This function only tell whether a graph is \n",
    "        connected or not.\n",
    "        '''\n",
    "        for i in self.graph:\n",
    "            if len(self.graph[i]) == 0:\n",
    "                return False\n",
    "        return True\n",
    "    \n",
    "    #Non-public helper functions.\n",
    "    def _create_graph(self, dataset):\n",
    "        '''This is helper function to create graph.'''\n",
    "        graph = {}\n",
    "        for node1, node2 in zip(dataset['node1'], dataset['node2']):\n",
    "            if node1 not in graph:\n",
    "                graph[node1] = []   #Adding nodes to the graph.\n",
    "            graph[node1].append(node2)  #Adding edges to the graph.\n",
    "        return graph\n",
    "\n",
    "# Graph creation.\n",
    "graph = Graph(cities_data)\n",
    "\n",
    "#------------------Checking some information about grapah.---------------------------\n",
    "print(graph.graph_data) #giving details of nodes connected to any node.\n",
    "print('Total nodes in the graph: ', graph.total_nodes)\n",
    "print('Total edges in the graph: ', graph.edges)\n",
    "print('Is graph conneced: ', graph.is_connected())"
   ]
  },
  {
   "cell_type": "code",
   "execution_count": 33,
   "metadata": {},
   "outputs": [
    {
     "name": "stdout",
     "output_type": "stream",
     "text": [
      "The path from Bikaner to Pakur is: ['Bikaner', 'Jodhpur', 'Rajsamand', 'Sikar', 'Una', 'Baghpat', 'Delhi', 'Jaipur', 'Bundi', 'Kota', 'Bhopal', 'Morena', 'Agra', 'Aligarh', 'Sitapur', 'Lucknow', 'Mahoba', 'Chitrakoot', 'Prayagraj', 'Mirzapur', 'Ghazipur', 'Rohtas', 'Daudnagar', 'Patna', 'Sitamarhi', 'Madhepura', 'Araria', 'Bhagalpur', 'Pakur']\n",
      "The path from Bikaner to Sri Ganganagar is: ['Bikaner', 'Jodhpur', 'Rajsamand', 'Sikar', 'Sri Ganganagar']\n",
      "The path from Sagar to Bhopal is: ['Sagar', 'Morena', 'Bhopal']\n",
      "The path from Bhopal to Sagar is: ['Bhopal', 'Kota', 'Bundi', 'Jaipur', 'Delhi', 'Faridabad', 'Agra', 'Morena', 'Sagar']\n",
      "The path from Calicut to Gaya is: ['Calicut', 'Belagavi', 'Bundi', 'Jaipur', 'Delhi', 'Faridabad', 'Agra', 'Aligarh', 'Sitapur', 'Lucknow', 'Mahoba', 'Chitrakoot', 'Prayagraj', 'Mirzapur', 'Ghazipur', 'Rohtas', 'Daudnagar', 'Patna', 'Sitamarhi', 'Madhepura', 'Araria', 'Bhagalpur', 'Nawada', 'Gaya']\n",
      "The path from Gaya to Calicut is: ['Gaya', 'Palamu', 'Daudnagar', 'Rohtas', 'Ghazipur', 'Mirzapur', 'Prayagraj', 'Raebareli', 'Lucknow', 'Sitapur', 'Aligarh', 'Agra', 'Faridabad', 'Delhi', 'Jaipur', 'Bundi', 'Kota', 'Bhopal', 'Morena', 'Sagar', 'Balaghat', 'Hanamkonda', 'Belagavi', 'Calicut']\n"
     ]
    }
   ],
   "source": [
    "#Implemeting the actual algorithm.\n",
    "visited_list = []               #List to keep track of the nodes visited in the graph.\n",
    "path = []                       #This stores the path followed to search for target node.\n",
    "def DFS(starting_node, target_node):\n",
    "    '''\n",
    "    Search for target node and track the path of the target node from starting node.\n",
    "    \n",
    "    This will surely give path if target node exists and graph is connected.\n",
    "    '''\n",
    "    if starting_node not in visited_list:\n",
    "        visited_list.append(starting_node)  #Appending node to visited list.\n",
    "        path.append(starting_node)\n",
    "        for node in graph.graph[starting_node]:\n",
    "            if node == target_node:     # checking for target node.\n",
    "                path.append(node)\n",
    "                return True\n",
    "            if node not in visited_list:\n",
    "                if DFS(node, target_node):\n",
    "                    return True # Stopping further looping if target found\n",
    "        path.pop()  #Removing element from path while backtracking.\n",
    "    return False\n",
    "\n",
    "#-------------Checking output of algorithm for different inputs-----------------\n",
    "DFS('Bikaner', 'Pakur')\n",
    "DFS('Bikaner', 'Sri Ganganagar')    #Long path for just neighbour nodes.\n",
    "DFS('Sagar', 'Bhopal')  # different path length reversing target and starting node.\n",
    "DFS('Bhopal', 'Sagar')\n",
    "DFS('Calicut', 'Gaya')\n",
    "DFS('Gaya', 'Calicut')  # Same path length but path is not same."
   ]
  },
  {
   "cell_type": "markdown",
   "metadata": {},
   "source": [
    "Observations:\n",
    "\n",
    "1. 'Bikaner' and 'Pakur' are very far from each other. While applying this dfs algorihm to find path this \n",
    "is giving very long path which is of no use in real life.\n",
    "2. while searching for 'Sri Ganganagar' starting from 'Bikaner' it's taking long path but they are neighbour of each other.\n",
    "3. To search for 'Bhopal' starting with 'Sagar' algorithm gives shortest possible path.\n",
    "4. Algorithm gives differennt ways if we just interchange the starting node and target node.\n",
    "5. Algorithm can give long path if we are just changing the starting and target nodes."
   ]
  }
 ],
 "metadata": {
  "kernelspec": {
   "display_name": "Python 3",
   "language": "python",
   "name": "python3"
  },
  "language_info": {
   "codemirror_mode": {
    "name": "ipython",
    "version": 3
   },
   "file_extension": ".py",
   "mimetype": "text/x-python",
   "name": "python",
   "nbconvert_exporter": "python",
   "pygments_lexer": "ipython3",
   "version": "3.11.5"
  },
  "orig_nbformat": 4
 },
 "nbformat": 4,
 "nbformat_minor": 2
}
