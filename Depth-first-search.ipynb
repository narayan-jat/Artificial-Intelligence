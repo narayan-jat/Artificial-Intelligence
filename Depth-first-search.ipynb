{
 "cells": [
  {
   "cell_type": "markdown",
   "metadata": {},
   "source": [
    "This notebook is implementation of the **Depth first search** algorithm. This algorithm is also known as blind search or uninformed search. Since it searches for the target node without considering any weight associated with it. This algorithm is optimal for trees with one target node only. But this is always a complete algorithm. It may be optimal or not for graphs and trees with more than one target node."
   ]
  },
  {
   "cell_type": "code",
   "execution_count": 1,
   "metadata": {},
   "outputs": [],
   "source": [
    "# adjancy list for graph.\n",
    "adjacency_list = {0: [1, 2, 3], 1: [4, 0], 2: [5, 6, 0], 3: [7, 0], 4: [1, 8], 5: [2, 9], 6: [2], 7: [3], 8: [4], 9: [5]}\n"
   ]
  },
  {
   "cell_type": "code",
   "execution_count": null,
   "metadata": {},
   "outputs": [],
   "source": [
    "# Traversing whole graph\n",
    "visited_list = []\n",
    "def DFS(node):\n",
    "    '''Traversing whole graph by dfs and printing all the nodes. '''\n",
    "    if node not in visited_list:\n",
    "        print(node)\n",
    "        visited_list.append(node)\n",
    "        for i in adjacency_list[node]:\n",
    "            DFS(i)\n",
    "\n",
    "#---------------------testing----------------------\n",
    "DFS(5)"
   ]
  },
  {
   "cell_type": "code",
   "execution_count": null,
   "metadata": {},
   "outputs": [],
   "source": [
    "# Traversing graph for target node stopped if found.\n",
    "visited_list = []\n",
    "def DFS(starting_node, target_node):\n",
    "    '''Searching for target node and stoping further search.'''  \n",
    "    if starting_node not in visited_list:\n",
    "        print(starting_node)\n",
    "        visited_list.append(starting_node)\n",
    "        for node in adjacency_list[starting_node]:\n",
    "            if node == target_node:\n",
    "                return True\n",
    "            if DFS(node, target_node):      # Terminating\n",
    "                return True\n",
    "    return False\n",
    "#------------------------Testing----------------\n",
    "DFS(0, 2)"
   ]
  },
  {
   "cell_type": "code",
   "execution_count": 40,
   "metadata": {},
   "outputs": [
    {
     "name": "stdout",
     "output_type": "stream",
     "text": [
      "the path is: [8, 4, 1, 0, 2, 6]\n"
     ]
    }
   ],
   "source": [
    "# Searching for target node with keeping track of path followed.\n",
    "visited_list = []\n",
    "path = []\n",
    "def DFS(starting_node, target_node):\n",
    "    '''Search for target node and track the path of the target node from starting node.'''\n",
    "    if starting_node not in visited_list:\n",
    "        visited_list.append(starting_node)\n",
    "        path.append(starting_node)\n",
    "        for node in adjacency_list[starting_node]:\n",
    "            if node == target_node:\n",
    "                path.append(node)\n",
    "                return True\n",
    "            if node not in visited_list:\n",
    "                if DFS(node, target_node):   # Terminating\n",
    "                    return True\n",
    "        path.pop()      # removing element while back tracking.\n",
    "    return False\n",
    "DFS(8, 6)\n",
    "print('the path is:', str(path))"
   ]
  }
 ],
 "metadata": {
  "kernelspec": {
   "display_name": "Python 3",
   "language": "python",
   "name": "python3"
  },
  "language_info": {
   "codemirror_mode": {
    "name": "ipython",
    "version": 3
   },
   "file_extension": ".py",
   "mimetype": "text/x-python",
   "name": "python",
   "nbconvert_exporter": "python",
   "pygments_lexer": "ipython3",
   "version": "3.11.5"
  },
  "orig_nbformat": 4
 },
 "nbformat": 4,
 "nbformat_minor": 2
}
